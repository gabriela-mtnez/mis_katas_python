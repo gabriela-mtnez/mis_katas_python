{
 "cells": [
  {
   "cell_type": "markdown",
   "metadata": {},
   "source": [
    "Ejercicio 1\n",
    "---"
   ]
  },
  {
   "cell_type": "markdown",
   "metadata": {},
   "source": [
    "Comienza por crear una función que necesite tres lecturas de combustible y devuelva un informe:"
   ]
  },
  {
   "cell_type": "code",
   "execution_count": 5,
   "metadata": {},
   "outputs": [],
   "source": [
    "def reporte(tanque1, tanque2, tanque3):\n",
    "    promedio = (tanque1 + tanque2 + tanque3)/3\n",
    "    return f\"\"\"Reporte de los tanques:\n",
    "    Promedio: {promedio}\n",
    "    Tanque 1: {tanque1}\n",
    "    Tanque 2: {tanque2}\n",
    "    Tanque 3: {tanque3}\"\"\"\n"
   ]
  },
  {
   "cell_type": "markdown",
   "metadata": {},
   "source": [
    "Ahora que hemos definido la función de informes, vamos a comprobarlo. Para esta misión, los tanques no están llenos:"
   ]
  },
  {
   "cell_type": "code",
   "execution_count": 6,
   "metadata": {},
   "outputs": [
    {
     "name": "stdout",
     "output_type": "stream",
     "text": [
      "Reporte de los tanques:\n",
      "    Promedio: 78.33333333333333\n",
      "    Tanque 1: 80\n",
      "    Tanque 2: 70\n",
      "    Tanque 3: 85\n"
     ]
    }
   ],
   "source": [
    "print(reporte(80,70,85))"
   ]
  },
  {
   "cell_type": "markdown",
   "metadata": {},
   "source": [
    "En lugar de simplemente crear el informe, la función también está calculando el promedio. Mejora la legibilidad extrayendo el cálculo promedio de la función en una nueva función para que el promedio se pueda hacer de forma independiente:"
   ]
  },
  {
   "cell_type": "code",
   "execution_count": 7,
   "metadata": {},
   "outputs": [
    {
     "name": "stdout",
     "output_type": "stream",
     "text": [
      "78.33333333333333\n",
      "Reporte de los tanques:\n",
      "    Promedio: 78.33333333333333\n",
      "    Tanque 1: 80\n",
      "    Tanque 2: 70\n",
      "    Tanque 3: 85\n"
     ]
    }
   ],
   "source": [
    "def promedio(*tanques):\n",
    "    combustible = sum(tanques)\n",
    "    numero_tanques = len(tanques)\n",
    "    return combustible/numero_tanques\n",
    "\n",
    "print(promedio(80,70,85))\n",
    "\n",
    "def reporte(tanque1, tanque2, tanque3):\n",
    "    return f\"\"\"Reporte de los tanques:\n",
    "    Promedio: {promedio(tanque1, tanque2, tanque3)}\n",
    "    Tanque 1: {tanque1}\n",
    "    Tanque 2: {tanque2}\n",
    "    Tanque 3: {tanque3}\"\"\"\n",
    "\n",
    "print(reporte(80,70,85))"
   ]
  },
  {
   "cell_type": "markdown",
   "metadata": {},
   "source": [
    "Ejercicio 2\n",
    "---"
   ]
  },
  {
   "cell_type": "markdown",
   "metadata": {},
   "source": [
    "En este ejercicio, construirás un informe de cohete que requiere varias piezas de información, como el tiempo hasta el destino, el combustible a la izquierda y el nombre del destino. Comienza por crear una función que creará un informe preciso de la misión:"
   ]
  },
  {
   "cell_type": "code",
   "execution_count": 8,
   "metadata": {},
   "outputs": [
    {
     "name": "stdout",
     "output_type": "stream",
     "text": [
      "\n",
      "    Destino: Moon\n",
      "    Tiempo del viaje: 65\n",
      "    Combustible: 500000\n"
     ]
    }
   ],
   "source": [
    "def informe(prelanzamiento, vuelo, tanqueExterno, tanqueInterno, destino):\n",
    "    return f\"\"\"\n",
    "    Destino: {destino}\n",
    "    Tiempo del viaje: {prelanzamiento+vuelo}\n",
    "    Combustible: {tanqueInterno+tanqueExterno}\"\"\"\n",
    "\n",
    "print(informe(14, 51, 200000, 300000, \"Moon\"))"
   ]
  },
  {
   "cell_type": "markdown",
   "metadata": {},
   "source": [
    "La función es problemática porque no se puede adaptar para minutos adicionales o tanques adicionales de combustible. Hazlo más flexible permitiendo cualquier número de pasos basados en el tiempo y cualquier número de tanques. En lugar de usar *args y **kwargs, aprovecha el hecho de que puedes usar cualquier nombre que desees. Asegurate que la función sea más legible mediante el uso de nombres de variables que están asociados con las entradas, como *minutes y **fuel_reservoirs:"
   ]
  },
  {
   "cell_type": "code",
   "execution_count": 10,
   "metadata": {},
   "outputs": [
    {
     "name": "stdout",
     "output_type": "stream",
     "text": [
      "\n",
      "    Destino: Moon\n",
      "    Tiempo del viaje: 76\n",
      "    Combustible: 500000\n"
     ]
    }
   ],
   "source": [
    "def informe(destino, *minutos, **tanques):\n",
    "    return f\"\"\"\n",
    "    Destino: {destino}\n",
    "    Tiempo del viaje: {sum(minutos)}\n",
    "    Combustible: {sum(tanques.values())}\"\"\"\n",
    "\n",
    "print(informe(\"Moon\", 10, 15, 51, tanque1=300000, tanque2=200000))"
   ]
  },
  {
   "cell_type": "markdown",
   "metadata": {},
   "source": [
    "Debido a que el combustible que queda en los tanques es específico de cada tanque, actualiza la función para usar el nombre de cada tanque en el informe:"
   ]
  },
  {
   "cell_type": "code",
   "execution_count": 11,
   "metadata": {},
   "outputs": [
    {
     "name": "stdout",
     "output_type": "stream",
     "text": [
      "\n",
      "    Destino: Moon\n",
      "    Tiempo del viaje: 74\n",
      "    Combustible: 500000\n",
      "    tanque1 Tanque -> 300000\n",
      "tanque2 Tanque -> 200000\n",
      "\n"
     ]
    }
   ],
   "source": [
    "def informe(destino, *minutos, **tanques):\n",
    "    reporte = f\"\"\"\n",
    "    Destino: {destino}\n",
    "    Tiempo del viaje: {sum(minutos)}\n",
    "    Combustible: {sum(tanques.values())}\n",
    "    \"\"\"\n",
    "    for tanque, litros in tanques.items():\n",
    "        reporte += f\"{tanque} Tanque -> {litros}\\n\"\n",
    "    return reporte\n",
    "\n",
    "print(informe(\"Moon\", 8, 11, 55, tanque1=300000, tanque2=200000))"
   ]
  }
 ],
 "metadata": {
  "interpreter": {
   "hash": "aee8b7b246df8f9039afb4144a1f6fd8d2ca17a180786b69acc140d282b71a49"
  },
  "kernelspec": {
   "display_name": "Python 3.9.10 64-bit",
   "language": "python",
   "name": "python3"
  },
  "language_info": {
   "codemirror_mode": {
    "name": "ipython",
    "version": 3
   },
   "file_extension": ".py",
   "mimetype": "text/x-python",
   "name": "python",
   "nbconvert_exporter": "python",
   "pygments_lexer": "ipython3",
   "version": "3.9.10"
  },
  "orig_nbformat": 4
 },
 "nbformat": 4,
 "nbformat_minor": 2
}
